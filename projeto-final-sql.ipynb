{
 "cells": [
  {
   "cell_type": "code",
   "execution_count": 1,
   "id": "69bc0537",
   "metadata": {
    "_cell_guid": "b1076dfc-b9ad-4769-8c92-a6c4dae69d19",
    "_uuid": "8f2839f25d086af736a60e9eeb907d3b93b6e0e5",
    "execution": {
     "iopub.execute_input": "2022-10-12T23:58:16.366093Z",
     "iopub.status.busy": "2022-10-12T23:58:16.365679Z",
     "iopub.status.idle": "2022-10-12T23:58:16.378183Z",
     "shell.execute_reply": "2022-10-12T23:58:16.376443Z"
    },
    "papermill": {
     "duration": 0.027427,
     "end_time": "2022-10-12T23:58:16.381081",
     "exception": false,
     "start_time": "2022-10-12T23:58:16.353654",
     "status": "completed"
    },
    "tags": []
   },
   "outputs": [],
   "source": [
    "import numpy as np # linear algebra\n",
    "import pandas as pd # data processing, CSV file I/O (e.g. pd.read_csv)\n",
    "\n",
    "# Input data files are available in the read-only \"../input/\" directory\n",
    "# For example, running this (by clicking run or pressing Shift+Enter) will list all files under the input directory\n",
    "\n",
    "import os\n",
    "for dirname, _, filenames in os.walk('/kaggle/input'):\n",
    "    for filename in filenames:\n",
    "        print(os.path.join(dirname, filename))\n",
    "\n",
    "# You can write up to 20GB to the current directory (/kaggle/working/) that gets preserved as output when you create a version using \"Save & Run All\" \n",
    "# You can also write temporary files to /kaggle/temp/, but they won't be saved outside of the current session"
   ]
  },
  {
   "cell_type": "markdown",
   "id": "4d594ad7",
   "metadata": {
    "papermill": {
     "duration": 0.009177,
     "end_time": "2022-10-12T23:58:16.399718",
     "exception": false,
     "start_time": "2022-10-12T23:58:16.390541",
     "status": "completed"
    },
    "tags": []
   },
   "source": [
    "# EXPLORAÇÃO DE DADOS TABELA CREDITO"
   ]
  },
  {
   "cell_type": "markdown",
   "id": "e5989964",
   "metadata": {
    "papermill": {
     "duration": 0.009015,
     "end_time": "2022-10-12T23:58:16.437237",
     "exception": false,
     "start_time": "2022-10-12T23:58:16.428222",
     "status": "completed"
    },
    "tags": []
   },
   "source": [
    "# Estruturação dos dados"
   ]
  },
  {
   "cell_type": "markdown",
   "id": "90afd4f0",
   "metadata": {
    "papermill": {
     "duration": 0.009662,
     "end_time": "2022-10-12T23:58:16.456372",
     "exception": false,
     "start_time": "2022-10-12T23:58:16.446710",
     "status": "completed"
    },
    "tags": []
   },
   "source": [
    "Para uma análise exploratória é crucial que se faça um atrelamento adequado para os tipos de variáveis para que a tabela criada consiga trazer as informações corretamente.\n",
    "abaixo é mostrado as variáveis e seus tipos de dados;\n",
    "\n",
    "* idade = int\n",
    "* sexo = string\n",
    "* dependentes = int\n",
    "* escolaridade = string\n",
    "* estado civil = string\n",
    "* salario_anual = string\n",
    "* tipo_cartao = string\n",
    "* qtd_produtos = bigint\n",
    "* iteracoes_12m = int\n",
    "* meses_inativo_12m = int\n",
    "* limite_credito =float\n",
    "* valor_transacoes_12m float\n",
    "* qtd_transacoes_12m int\n",
    "\n",
    "Os dados acima represemtam informações de clientes de um banco específico. \n",
    "\n",
    "Uma vez que tenhamos os dados planilhados podemos criar um bucket na plataforma (AWS) no setor (s3)fazendo o upload do arquivo e criando a tabela no setor (athena) utilizando as informações dos tipos de dados acima, com isso conseguimos por query extrair informações relevantes como será demonstrado abaixo.\n",
    "\n",
    "\n",
    "\n"
   ]
  },
  {
   "cell_type": "markdown",
   "id": "7f21fa2f",
   "metadata": {
    "papermill": {
     "duration": 0.009046,
     "end_time": "2022-10-12T23:58:16.475103",
     "exception": false,
     "start_time": "2022-10-12T23:58:16.466057",
     "status": "completed"
    },
    "tags": []
   },
   "source": [
    "# Visualisando a tabela criada por query"
   ]
  },
  {
   "cell_type": "markdown",
   "id": "92a00a58",
   "metadata": {
    "papermill": {
     "duration": 0.008992,
     "end_time": "2022-10-12T23:58:16.493497",
     "exception": false,
     "start_time": "2022-10-12T23:58:16.484505",
     "status": "completed"
    },
    "tags": []
   },
   "source": [
    "Agora, por meio de consulta podemos visualizar de modo geral o que a tabela pode nos entregar de informação.\n",
    "Para isso utilizaremos o código abaixo :\n",
    "\n",
    "- select * from credito\n",
    "\n",
    "![](https://github.com/arsnfreitas/analise-de-credito-SQL/blob/main/imagens/1.png?raw=true)\n",
    "\n",
    "Podemos extrair algumas informações com base em cálculos aritiméticos.\n",
    "\n",
    "# Média de Quantidade de Produtos\n",
    "\n",
    "- select avg(qtd_produtos) as MEDIA_QTD_PRODUTOS from credito\n",
    "\n",
    "\n",
    "![](https://github.com/arsnfreitas/analise-de-credito-SQL/blob/main/imagens/2.png?raw=true)\n",
    "\n",
    "# Valor Máximo e Mínimo de Produtos\n",
    "\n",
    "- select max(qtd_produtos) as MAXIMO_QTD_PRODUTOS, min(qtd_produtos) as MINIMO_QTD_PRODUTOS from credito\n",
    "\n",
    "![](https://github.com/arsnfreitas/analise-de-credito-SQL/blob/main/imagens/3.png?raw=true)\n",
    "\n",
    "# Tipos de Escolaridade\n",
    "\n",
    "- select distinct ESCOLARIDADE from credito\n",
    "\n",
    "![](https://github.com/arsnfreitas/analise-de-credito-SQL/blob/main/imagens/4.png?raw=true)\n",
    "\n",
    "Nesse caso acima temos de forma distinta todos os tipos de escolaridade da tabela, abaixo o estado civil.\n",
    "\n",
    "# Estado Civil\n",
    "\n",
    "- select distinct Estado_civil from credito\n",
    "\n",
    "![](https://github.com/arsnfreitas/analise-de-credito-SQL/blob/main/imagens/5.png?raw=true)\n",
    "\n",
    "\n",
    "\n",
    "\n"
   ]
  },
  {
   "cell_type": "markdown",
   "id": "d5a9fa4d",
   "metadata": {
    "papermill": {
     "duration": 0.010328,
     "end_time": "2022-10-12T23:58:16.513240",
     "exception": false,
     "start_time": "2022-10-12T23:58:16.502912",
     "status": "completed"
    },
    "tags": []
   },
   "source": [
    "# Agrupando Informações\n",
    "\n",
    "Podemos extrair informações de forma agrupada por exemplo:\n",
    "Qual é o valor total de limite atribuído a clientes por tipo de cartão.\n",
    "\n",
    "- select sum(limite_credito) as LIMITE_CREDITO, tipo_cartao from credito \n",
    "  group by tipo_cartao\n",
    "\n",
    "![](https://github.com/arsnfreitas/analise-de-credito-SQL/blob/main/imagens/6.png?raw=true)\n",
    "\n",
    "Conforme mostrado na tabela acima a soma total do  limite de crédito para os cartões do tipo blue é o de maior valor podendo ser o limite de crédito atríbuido ou a quantidade de clientes que utilizam o cartão azul. É possivel tirar uma conclusão verificando a quantidade de cartões por cores conforme mostrado abaixo.\n",
    "\n",
    "- select tipo_cartao, count(tipo_cartao) as QTD_CARTOES from credito group by tipo_cartao\n",
    "\n",
    "![](https://github.com/arsnfreitas/analise-de-credito-SQL/blob/main/imagens/7.png?raw=true)\n",
    "\n",
    "Podemos concluir que o volume de cartões (blue) é o de maior quantidade isso mostra que a soma do limite de blue é maior pela quantidade de clientes e não pelo limite que 0 cartão corresponde\n",
    "\n",
    "Podemos analisar a média de idade agrupados por sexo e escolaridade, conforme mostrado na tabela abaixo.\n",
    "\n",
    "- select  avg(idade) as MEDIA_IDADE,  escolaridade, sexo  from credito group by sexo, escolaridade\n",
    "\n",
    "![](https://github.com/arsnfreitas/analise-de-credito-SQL/blob/main/imagens/8.png?raw=true)\n",
    "\n",
    "\n",
    "Podemos realizar uma filtragem agrupando pela escolaridade onde podemos extrair apenas o sexo feminino e masculino conforme mostrado nas tabelas abaixo.\n",
    "\n",
    "- select  avg(idade) as MEDIA_IDADE, SEXO, escolaridade from credito\n",
    "  where sexo ='F'\n",
    "  group by  escolaridade, SEXO\n",
    "\n",
    "![](https://github.com/arsnfreitas/analise-de-credito-SQL/blob/main/imagens/9.png?raw=true)\n",
    "\n",
    "- select  avg(idade) as MEDIA_IDADE, SEXO, escolaridade from credito\n",
    "  where sexo ='M'\n",
    "  group by  escolaridade, SEXO\n",
    "\n",
    "![](https://github.com/arsnfreitas/analise-de-credito-SQL/blob/main/imagens/10.png?raw=true)\n",
    "\n",
    "Conclui - se que que não há diferença significativa entre as idades de sexo masculino e feminino  em caráter de escolaridade."
   ]
  },
  {
   "cell_type": "markdown",
   "id": "f9c55ed5",
   "metadata": {
    "papermill": {
     "duration": 0.00991,
     "end_time": "2022-10-12T23:58:16.534074",
     "exception": false,
     "start_time": "2022-10-12T23:58:16.524164",
     "status": "completed"
    },
    "tags": []
   },
   "source": [
    "# Resultados Mostrados em Gráficos\n",
    "\n",
    "Uma ótima forma de entregar resultados é mostra-los graficamente pois visualmente ficam mais claros.\n",
    "\n",
    "O código abaixo nos traz o uso de tipo de cartões com base na média de idade dos usuários do sexo feminino e masculino.\n",
    "\n",
    "- select  avg(idade) as MEDIA_IDADE,  tipo_cartao from credito\n",
    "  where sexo ='F'\n",
    "  group by   tipo_cartao\n",
    "\n",
    "![](https://github.com/arsnfreitas/analise-de-credito-SQL/blob/main/imagens/11.png?raw=true)\n",
    "\n",
    "- select  avg(idade) as MEDIA_IDADE,  tipo_cartao from credito\n",
    "  where sexo ='M'\n",
    "  group by   tipo_cartao\n",
    "  \n",
    "![](https://github.com/arsnfreitas/analise-de-credito-SQL/blob/main/imagens/22.png?raw=true)\n",
    "\n",
    "\n",
    "\n",
    "\n",
    "Podemos observar abaixo uma grande diferença na facilidade de interpretar os resultados.\n",
    "\n",
    "![](https://github.com/arsnfreitas/analise-de-credito-SQL/blob/main/imagens/12.png?raw=true)\n",
    "\n",
    "![](https://github.com/arsnfreitas/analise-de-credito-SQL/blob/main/imagens/13.png?raw=true)\n",
    "\n",
    "\n",
    "É muito claro entender que o cartão (platinium) é utilizado com mulheres com idade média de 51 anos de idade e homens com 48 anos.\n",
    "\n",
    "\n",
    "Podemos analisar em grau de escolaridade qual é a media de idade e tipo de cartão utilizado para aqueles de ambos os sexos que possuem grau de escolaridade a nível de mestrado.\n",
    "\n",
    "- select  avg(idade) as MEDIA_IDADE,  tipo_cartao, sexo, escolaridade from credito\n",
    "  where escolaridade ='mestrado'and sexo ='M'\n",
    "  group by   tipo_cartao, sexo, escolaridade\n",
    "\n",
    "![](https://github.com/arsnfreitas/analise-de-credito-SQL/blob/main/imagens/14.png?raw=true)\n",
    "\n",
    "![](https://github.com/arsnfreitas/analise-de-credito-SQL/blob/main/imagens/15.png?raw=true)\n",
    "\n",
    "\n",
    "\n",
    "\n",
    "\n",
    "\n",
    "\n",
    "\n",
    "\n",
    "\n",
    "\n",
    "\n"
   ]
  },
  {
   "attachments": {
    "55ea357b-254b-457d-892d-25cb1de3b720.png": {
     "image/png": "[encoded data removed]"
    },
    "e4b6737b-fb39-4839-9737-7bf478f694b6.png": {
     "image/png": "[encoded data removed]"
    }
   },
   "cell_type": "markdown",
   "id": "fb5507d7",
   "metadata": {
    "papermill": {
     "duration": 0.009703,
     "end_time": "2022-10-12T23:58:16.553466",
     "exception": false,
     "start_time": "2022-10-12T23:58:16.543763",
     "status": "completed"
    },
    "tags": []
   },
   "source": [
    "select  avg(idade) as MEDIA_IDADE,  tipo_cartao, sexo, escolaridade from credito\n",
    "where escolaridade ='mestrado'\n",
    "and sexo ='F'\n",
    "group by   tipo_cartao, sexo, escolaridade\n",
    "\n",
    "![image.png](attachment:e4b6737b-fb39-4839-9737-7bf478f694b6.png)\n",
    "\n",
    "![image.png](attachment:55ea357b-254b-457d-892d-25cb1de3b720.png)\n",
    "\n",
    "Nesse gráfico podemos concluir que mulheres com escolaridade em mestrado não utilizam o cartão platinium\n"
   ]
  },
  {
   "cell_type": "markdown",
   "id": "c97b19ee",
   "metadata": {
    "papermill": {
     "duration": 0.009539,
     "end_time": "2022-10-12T23:58:16.573108",
     "exception": false,
     "start_time": "2022-10-12T23:58:16.563569",
     "status": "completed"
    },
    "tags": []
   },
   "source": [
    "Abaixo é extraído a quantidade de cartões por tipo, da tabela.\n",
    "\n",
    "- select tipo_cartao, count(*) QUANTIDADE from credito\n",
    "  group by tipo_cartao\n",
    "\n",
    "![](https://github.com/arsnfreitas/analise-de-credito-SQL/blob/main/imagens/18.png?raw=true)\n",
    "\n",
    "![](https://github.com/arsnfreitas/analise-de-credito-SQL/blob/main/imagens/19.png?raw=true)\n",
    "\n",
    "Podemos observar que a maior quantidade se concentra em blue e a menor em platinum\n",
    "\n",
    "Abaixo dados de quantidade, tipo de cartão por estado civil\n",
    "\n",
    "- select tipo_cartao, count(*) QUANTIDADE, estado_civil from credito \n",
    "  group by tipo_cartao, estado_civil\n",
    "\n",
    "![](https://github.com/arsnfreitas/analise-de-credito-SQL/blob/main/imagens/20.png?raw=true)\n",
    "![](https://github.com/arsnfreitas/analise-de-credito-SQL/blob/main/imagens/21.png?raw=true)\n",
    "\n",
    "\n",
    "\n",
    "Casados e solteiros são os que mais utilizam cartão blue e silver.\n",
    "\n"
   ]
  },
  {
   "cell_type": "markdown",
   "id": "473703f2",
   "metadata": {},
   "source": [
    "## Conclusão\n",
    "Este documento traz algumas análises do que pode ser extraído deste dataset, contudo podemos tirar algumas conclusões:\n",
    "\n",
    "\n",
    "- Como as idades mínimas entre os clientes do sexo masculino e feminino iguais, esse fator impactou a média de idade dos clientes serem muitos próximas, quando vemos por tipo de cartão.\n",
    "- O grupo de cliente sem educação formal detém 14% formando o terceiro maior grupo, com idade média de 45 anos, quando se analisa a escolaridade dos clientes.\n",
    "- O tipo cartão Blue é o mais utilizado pelos clientes. \n",
    "- O tipo cartão silver é o mais usado por mulheres com mestrado e idade média de 49 anos.\n",
    "\n",
    "Podemos realizar n outras análises. Espero que esse trabalho seja suficiente para mostrar o quanto aprendi, evolui, pois sai do zero e hoje me sinto confortável em dizer que tenho conhecimento em manipulação de dados por sql."
   ]
  },
  {
   "cell_type": "code",
   "execution_count": null,
   "id": "77f79f83",
   "metadata": {},
   "outputs": [],
   "source": []
  }
 ],
 "metadata": {
  "kernelspec": {
   "display_name": "Python 3 (ipykernel)",
   "language": "python",
   "name": "python3"
  },
  "language_info": {
   "codemirror_mode": {
    "name": "ipython",
    "version": 3
   },
   "file_extension": ".py",
   "mimetype": "text/x-python",
   "name": "python",
   "nbconvert_exporter": "python",
   "pygments_lexer": "ipython3",
   "version": "3.11.4"
  },
  "papermill": {
   "default_parameters": {},
   "duration": 10.56418,
   "end_time": "2022-10-12T23:58:17.325224",
   "environment_variables": {},
   "exception": null,
   "input_path": "__notebook__.ipynb",
   "output_path": "__notebook__.ipynb",
   "parameters": {},
   "start_time": "2022-10-12T23:58:06.761044",
   "version": "2.3.4"
  }
 },
 "nbformat": 4,
 "nbformat_minor": 5
}
